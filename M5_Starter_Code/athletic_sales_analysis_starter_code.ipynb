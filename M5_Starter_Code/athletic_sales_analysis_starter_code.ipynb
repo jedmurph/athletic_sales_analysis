{
 "cells": [
  {
   "cell_type": "code",
   "execution_count": 122,
   "metadata": {},
   "outputs": [],
   "source": [
    "# Import Libraries and Dependencies\n",
    "import pandas as pd\n",
    "from pathlib import Path"
   ]
  },
  {
   "cell_type": "markdown",
   "metadata": {},
   "source": [
    "### 1. Combine and Clean the Data\n",
    "#### Import CSVs"
   ]
  },
  {
   "cell_type": "code",
   "execution_count": 123,
   "metadata": {},
   "outputs": [],
   "source": [
    "# Read the CSV files into DataFrames.\n",
    "athletic_sales_2020_csv = Path(\"/Users/jedmurph/Documents/CODE/athletic_sales_analysis/M5_Starter_Code/Resources/athletic_sales_2020.csv\")\n",
    "athletic_sales_2021_csv = Path(\"/Users/jedmurph/Documents/CODE/athletic_sales_analysis/M5_Starter_Code/Resources/athletic_sales_2021.csv\")\n",
    "\n",
    "athletic_sales_2020_df = pd.read_csv(athletic_sales_2020_csv)\n",
    "athletic_sales_2021_df = pd.read_csv(athletic_sales_2021_csv)"
   ]
  },
  {
   "cell_type": "code",
   "execution_count": 124,
   "metadata": {},
   "outputs": [
    {
     "data": {
      "text/html": [
       "<div>\n",
       "<style scoped>\n",
       "    .dataframe tbody tr th:only-of-type {\n",
       "        vertical-align: middle;\n",
       "    }\n",
       "\n",
       "    .dataframe tbody tr th {\n",
       "        vertical-align: top;\n",
       "    }\n",
       "\n",
       "    .dataframe thead th {\n",
       "        text-align: right;\n",
       "    }\n",
       "</style>\n",
       "<table border=\"1\" class=\"dataframe\">\n",
       "  <thead>\n",
       "    <tr style=\"text-align: right;\">\n",
       "      <th></th>\n",
       "      <th>retailer</th>\n",
       "      <th>retailer_id</th>\n",
       "      <th>invoice_date</th>\n",
       "      <th>region</th>\n",
       "      <th>state</th>\n",
       "      <th>city</th>\n",
       "      <th>product</th>\n",
       "      <th>price_per_unit</th>\n",
       "      <th>units_sold</th>\n",
       "      <th>total_sales</th>\n",
       "      <th>operating_profit</th>\n",
       "      <th>sales_method</th>\n",
       "    </tr>\n",
       "  </thead>\n",
       "  <tbody>\n",
       "    <tr>\n",
       "      <th>0</th>\n",
       "      <td>Foot Locker</td>\n",
       "      <td>1185732</td>\n",
       "      <td>1/1/20</td>\n",
       "      <td>Northeast</td>\n",
       "      <td>New York</td>\n",
       "      <td>New York</td>\n",
       "      <td>Men's Street Footwear</td>\n",
       "      <td>50</td>\n",
       "      <td>1200</td>\n",
       "      <td>600000</td>\n",
       "      <td>300000.00</td>\n",
       "      <td>In-store</td>\n",
       "    </tr>\n",
       "    <tr>\n",
       "      <th>1</th>\n",
       "      <td>Foot Locker</td>\n",
       "      <td>1185732</td>\n",
       "      <td>1/1/20</td>\n",
       "      <td>Northeast</td>\n",
       "      <td>Pennsylvania</td>\n",
       "      <td>Philadelphia</td>\n",
       "      <td>Women's Apparel</td>\n",
       "      <td>68</td>\n",
       "      <td>83</td>\n",
       "      <td>5644</td>\n",
       "      <td>2426.92</td>\n",
       "      <td>Online</td>\n",
       "    </tr>\n",
       "    <tr>\n",
       "      <th>2</th>\n",
       "      <td>Foot Locker</td>\n",
       "      <td>1185732</td>\n",
       "      <td>1/1/20</td>\n",
       "      <td>Northeast</td>\n",
       "      <td>Pennsylvania</td>\n",
       "      <td>Philadelphia</td>\n",
       "      <td>Women's Apparel</td>\n",
       "      <td>75</td>\n",
       "      <td>275</td>\n",
       "      <td>206250</td>\n",
       "      <td>61875.00</td>\n",
       "      <td>Outlet</td>\n",
       "    </tr>\n",
       "    <tr>\n",
       "      <th>3</th>\n",
       "      <td>Foot Locker</td>\n",
       "      <td>1185732</td>\n",
       "      <td>1/1/20</td>\n",
       "      <td>Northeast</td>\n",
       "      <td>New York</td>\n",
       "      <td>New York</td>\n",
       "      <td>Men's Street Footwear</td>\n",
       "      <td>34</td>\n",
       "      <td>384</td>\n",
       "      <td>13056</td>\n",
       "      <td>6789.12</td>\n",
       "      <td>Outlet</td>\n",
       "    </tr>\n",
       "    <tr>\n",
       "      <th>4</th>\n",
       "      <td>Foot Locker</td>\n",
       "      <td>1185732</td>\n",
       "      <td>1/1/20</td>\n",
       "      <td>Northeast</td>\n",
       "      <td>Pennsylvania</td>\n",
       "      <td>Philadelphia</td>\n",
       "      <td>Women's Apparel</td>\n",
       "      <td>53</td>\n",
       "      <td>83</td>\n",
       "      <td>4399</td>\n",
       "      <td>1407.68</td>\n",
       "      <td>Outlet</td>\n",
       "    </tr>\n",
       "  </tbody>\n",
       "</table>\n",
       "</div>"
      ],
      "text/plain": [
       "      retailer  retailer_id invoice_date     region         state  \\\n",
       "0  Foot Locker      1185732       1/1/20  Northeast      New York   \n",
       "1  Foot Locker      1185732       1/1/20  Northeast  Pennsylvania   \n",
       "2  Foot Locker      1185732       1/1/20  Northeast  Pennsylvania   \n",
       "3  Foot Locker      1185732       1/1/20  Northeast      New York   \n",
       "4  Foot Locker      1185732       1/1/20  Northeast  Pennsylvania   \n",
       "\n",
       "           city                product  price_per_unit  units_sold  \\\n",
       "0      New York  Men's Street Footwear              50        1200   \n",
       "1  Philadelphia        Women's Apparel              68          83   \n",
       "2  Philadelphia        Women's Apparel              75         275   \n",
       "3      New York  Men's Street Footwear              34         384   \n",
       "4  Philadelphia        Women's Apparel              53          83   \n",
       "\n",
       "   total_sales  operating_profit sales_method  \n",
       "0       600000         300000.00     In-store  \n",
       "1         5644           2426.92       Online  \n",
       "2       206250          61875.00       Outlet  \n",
       "3        13056           6789.12       Outlet  \n",
       "4         4399           1407.68       Outlet  "
      ]
     },
     "execution_count": 124,
     "metadata": {},
     "output_type": "execute_result"
    }
   ],
   "source": [
    "# Display the 2020 sales DataFrame\n",
    "athletic_sales_2020_df.head()"
   ]
  },
  {
   "cell_type": "code",
   "execution_count": 125,
   "metadata": {},
   "outputs": [
    {
     "data": {
      "text/html": [
       "<div>\n",
       "<style scoped>\n",
       "    .dataframe tbody tr th:only-of-type {\n",
       "        vertical-align: middle;\n",
       "    }\n",
       "\n",
       "    .dataframe tbody tr th {\n",
       "        vertical-align: top;\n",
       "    }\n",
       "\n",
       "    .dataframe thead th {\n",
       "        text-align: right;\n",
       "    }\n",
       "</style>\n",
       "<table border=\"1\" class=\"dataframe\">\n",
       "  <thead>\n",
       "    <tr style=\"text-align: right;\">\n",
       "      <th></th>\n",
       "      <th>retailer</th>\n",
       "      <th>retailer_id</th>\n",
       "      <th>invoice_date</th>\n",
       "      <th>region</th>\n",
       "      <th>state</th>\n",
       "      <th>city</th>\n",
       "      <th>product</th>\n",
       "      <th>price_per_unit</th>\n",
       "      <th>units_sold</th>\n",
       "      <th>total_sales</th>\n",
       "      <th>operating_profit</th>\n",
       "      <th>sales_method</th>\n",
       "    </tr>\n",
       "  </thead>\n",
       "  <tbody>\n",
       "    <tr>\n",
       "      <th>0</th>\n",
       "      <td>West Gear</td>\n",
       "      <td>1128299</td>\n",
       "      <td>1/1/21</td>\n",
       "      <td>West</td>\n",
       "      <td>California</td>\n",
       "      <td>San Francisco</td>\n",
       "      <td>Men's Athletic Footwear</td>\n",
       "      <td>65</td>\n",
       "      <td>750</td>\n",
       "      <td>487500</td>\n",
       "      <td>121875.00</td>\n",
       "      <td>Outlet</td>\n",
       "    </tr>\n",
       "    <tr>\n",
       "      <th>1</th>\n",
       "      <td>West Gear</td>\n",
       "      <td>1128299</td>\n",
       "      <td>1/1/21</td>\n",
       "      <td>West</td>\n",
       "      <td>California</td>\n",
       "      <td>San Francisco</td>\n",
       "      <td>Men's Athletic Footwear</td>\n",
       "      <td>51</td>\n",
       "      <td>233</td>\n",
       "      <td>11883</td>\n",
       "      <td>3208.41</td>\n",
       "      <td>Outlet</td>\n",
       "    </tr>\n",
       "    <tr>\n",
       "      <th>2</th>\n",
       "      <td>Kohl's</td>\n",
       "      <td>1189833</td>\n",
       "      <td>1/1/21</td>\n",
       "      <td>Midwest</td>\n",
       "      <td>Montana</td>\n",
       "      <td>Billings</td>\n",
       "      <td>Men's Apparel</td>\n",
       "      <td>50</td>\n",
       "      <td>275</td>\n",
       "      <td>137500</td>\n",
       "      <td>82500.00</td>\n",
       "      <td>Outlet</td>\n",
       "    </tr>\n",
       "    <tr>\n",
       "      <th>3</th>\n",
       "      <td>Kohl's</td>\n",
       "      <td>1189833</td>\n",
       "      <td>1/1/21</td>\n",
       "      <td>Midwest</td>\n",
       "      <td>Montana</td>\n",
       "      <td>Billings</td>\n",
       "      <td>Men's Apparel</td>\n",
       "      <td>47</td>\n",
       "      <td>77</td>\n",
       "      <td>3619</td>\n",
       "      <td>2714.25</td>\n",
       "      <td>Online</td>\n",
       "    </tr>\n",
       "    <tr>\n",
       "      <th>4</th>\n",
       "      <td>West Gear</td>\n",
       "      <td>1128299</td>\n",
       "      <td>1/1/21</td>\n",
       "      <td>West</td>\n",
       "      <td>California</td>\n",
       "      <td>San Francisco</td>\n",
       "      <td>Men's Athletic Footwear</td>\n",
       "      <td>64</td>\n",
       "      <td>225</td>\n",
       "      <td>14400</td>\n",
       "      <td>5184.00</td>\n",
       "      <td>Online</td>\n",
       "    </tr>\n",
       "  </tbody>\n",
       "</table>\n",
       "</div>"
      ],
      "text/plain": [
       "    retailer  retailer_id invoice_date   region       state           city  \\\n",
       "0  West Gear      1128299       1/1/21     West  California  San Francisco   \n",
       "1  West Gear      1128299       1/1/21     West  California  San Francisco   \n",
       "2     Kohl's      1189833       1/1/21  Midwest     Montana       Billings   \n",
       "3     Kohl's      1189833       1/1/21  Midwest     Montana       Billings   \n",
       "4  West Gear      1128299       1/1/21     West  California  San Francisco   \n",
       "\n",
       "                   product  price_per_unit  units_sold  total_sales  \\\n",
       "0  Men's Athletic Footwear              65         750       487500   \n",
       "1  Men's Athletic Footwear              51         233        11883   \n",
       "2            Men's Apparel              50         275       137500   \n",
       "3            Men's Apparel              47          77         3619   \n",
       "4  Men's Athletic Footwear              64         225        14400   \n",
       "\n",
       "   operating_profit sales_method  \n",
       "0         121875.00       Outlet  \n",
       "1           3208.41       Outlet  \n",
       "2          82500.00       Outlet  \n",
       "3           2714.25       Online  \n",
       "4           5184.00       Online  "
      ]
     },
     "execution_count": 125,
     "metadata": {},
     "output_type": "execute_result"
    }
   ],
   "source": [
    "# Display the 2021 sales DataFrame\n",
    "athletic_sales_2021_df.head()"
   ]
  },
  {
   "cell_type": "markdown",
   "metadata": {},
   "source": [
    "#### Check the data types of each DataFrame"
   ]
  },
  {
   "cell_type": "code",
   "execution_count": 126,
   "metadata": {},
   "outputs": [
    {
     "name": "stdout",
     "output_type": "stream",
     "text": [
      "retailer             object\n",
      "retailer_id           int64\n",
      "invoice_date         object\n",
      "region               object\n",
      "state                object\n",
      "city                 object\n",
      "product              object\n",
      "price_per_unit        int64\n",
      "units_sold            int64\n",
      "total_sales           int64\n",
      "operating_profit    float64\n",
      "sales_method         object\n",
      "dtype: object\n"
     ]
    }
   ],
   "source": [
    "# Check the 2020 sales data types.\n",
    "print(athletic_sales_2020_df.dtypes)"
   ]
  },
  {
   "cell_type": "code",
   "execution_count": 127,
   "metadata": {},
   "outputs": [
    {
     "name": "stdout",
     "output_type": "stream",
     "text": [
      "retailer             object\n",
      "retailer_id           int64\n",
      "invoice_date         object\n",
      "region               object\n",
      "state                object\n",
      "city                 object\n",
      "product              object\n",
      "price_per_unit        int64\n",
      "units_sold            int64\n",
      "total_sales           int64\n",
      "operating_profit    float64\n",
      "sales_method         object\n",
      "dtype: object\n"
     ]
    }
   ],
   "source": [
    "# Check the 2021 sales data types.\n",
    "print(athletic_sales_2021_df.dtypes)"
   ]
  },
  {
   "cell_type": "markdown",
   "metadata": {},
   "source": [
    "#### Combine the sales data by rows."
   ]
  },
  {
   "cell_type": "code",
   "execution_count": 128,
   "metadata": {},
   "outputs": [
    {
     "name": "stdout",
     "output_type": "stream",
     "text": [
      "         retailer  retailer_id invoice_date     region         state  \\\n",
      "0     Foot Locker      1185732       1/1/20  Northeast      New York   \n",
      "1     Foot Locker      1185732       1/1/20  Northeast  Pennsylvania   \n",
      "2     Foot Locker      1185732       1/1/20  Northeast  Pennsylvania   \n",
      "3     Foot Locker      1185732       1/1/20  Northeast      New York   \n",
      "4     Foot Locker      1185732       1/1/20  Northeast  Pennsylvania   \n",
      "...           ...          ...          ...        ...           ...   \n",
      "9638  Foot Locker      1185732     12/31/21  Northeast  Pennsylvania   \n",
      "9639  Foot Locker      1185732     12/31/21  Northeast  Pennsylvania   \n",
      "9640       Amazon      1185732     12/31/21  Northeast         Maine   \n",
      "9641       Amazon      1185732     12/31/21  Northeast         Maine   \n",
      "9642  Foot Locker      1185732     12/31/21  Northeast  Pennsylvania   \n",
      "\n",
      "              city                product  price_per_unit  units_sold  \\\n",
      "0         New York  Men's Street Footwear              50        1200   \n",
      "1     Philadelphia        Women's Apparel              68          83   \n",
      "2     Philadelphia        Women's Apparel              75         275   \n",
      "3         New York  Men's Street Footwear              34         384   \n",
      "4     Philadelphia        Women's Apparel              53          83   \n",
      "...            ...                    ...             ...         ...   \n",
      "9638  Philadelphia          Men's Apparel              63          47   \n",
      "9639  Philadelphia          Men's Apparel              46          56   \n",
      "9640      Portland          Men's Apparel              52          36   \n",
      "9641      Portland          Men's Apparel              55         125   \n",
      "9642  Philadelphia          Men's Apparel              70         175   \n",
      "\n",
      "      total_sales  operating_profit sales_method  \n",
      "0          600000         300000.00     In-store  \n",
      "1            5644           2426.92       Online  \n",
      "2          206250          61875.00       Outlet  \n",
      "3           13056           6789.12       Outlet  \n",
      "4            4399           1407.68       Outlet  \n",
      "...           ...               ...          ...  \n",
      "9638         2961           1362.06       Online  \n",
      "9639         2576           1004.64       Outlet  \n",
      "9640         1872            692.64       Online  \n",
      "9641        68750          17187.50       Outlet  \n",
      "9642       122500          42875.00       Outlet  \n",
      "\n",
      "[9643 rows x 12 columns]\n"
     ]
    }
   ],
   "source": [
    "# Combine the 2020 and 2021 sales DataFrames on the rows and reset the index.\n",
    "combined_2020_2021_df = pd.concat([athletic_sales_2020_df, athletic_sales_2021_df]).reset_index(drop=True)\n",
    "\n",
    "print(combined_2020_2021_df)"
   ]
  },
  {
   "cell_type": "code",
   "execution_count": 129,
   "metadata": {},
   "outputs": [
    {
     "name": "stdout",
     "output_type": "stream",
     "text": [
      "retailer            0\n",
      "retailer_id         0\n",
      "invoice_date        0\n",
      "region              0\n",
      "state               0\n",
      "city                0\n",
      "product             0\n",
      "price_per_unit      0\n",
      "units_sold          0\n",
      "total_sales         0\n",
      "operating_profit    0\n",
      "sales_method        0\n",
      "dtype: int64\n"
     ]
    }
   ],
   "source": [
    "# Check if any values are null.\n",
    "athletic_sales_null_values = combined_2020_2021_df.isnull().sum()\n",
    "\n",
    "print(athletic_sales_null_values)"
   ]
  },
  {
   "cell_type": "code",
   "execution_count": 130,
   "metadata": {},
   "outputs": [
    {
     "name": "stdout",
     "output_type": "stream",
     "text": [
      "retailer             object\n",
      "retailer_id           int64\n",
      "invoice_date         object\n",
      "region               object\n",
      "state                object\n",
      "city                 object\n",
      "product              object\n",
      "price_per_unit        int64\n",
      "units_sold            int64\n",
      "total_sales           int64\n",
      "operating_profit    float64\n",
      "sales_method         object\n",
      "dtype: object\n"
     ]
    }
   ],
   "source": [
    "# Check the data type of each column\n",
    "column_data_types = combined_2020_2021_df.dtypes\n",
    "\n",
    "print(column_data_types)"
   ]
  },
  {
   "cell_type": "markdown",
   "metadata": {},
   "source": []
  },
  {
   "cell_type": "code",
   "execution_count": 131,
   "metadata": {},
   "outputs": [
    {
     "name": "stderr",
     "output_type": "stream",
     "text": [
      "/var/folders/3c/1tlsztzj1zv8dh6mlt_6d48c0000gn/T/ipykernel_53185/4237754865.py:2: UserWarning: Could not infer format, so each element will be parsed individually, falling back to `dateutil`. To ensure parsing is consistent and as-expected, please specify a format.\n",
      "  combined_2020_2021_df[\"invoice_date\"] = pd.to_datetime(combined_2020_2021_df[\"invoice_date\"])\n"
     ]
    }
   ],
   "source": [
    "# Convert the \"invoice_date\" to a datetime datatype\n",
    "combined_2020_2021_df[\"invoice_date\"] = pd.to_datetime(combined_2020_2021_df[\"invoice_date\"])"
   ]
  },
  {
   "cell_type": "code",
   "execution_count": 132,
   "metadata": {},
   "outputs": [
    {
     "name": "stdout",
     "output_type": "stream",
     "text": [
      "retailer                    object\n",
      "retailer_id                  int64\n",
      "invoice_date        datetime64[ns]\n",
      "region                      object\n",
      "state                       object\n",
      "city                        object\n",
      "product                     object\n",
      "price_per_unit               int64\n",
      "units_sold                   int64\n",
      "total_sales                  int64\n",
      "operating_profit           float64\n",
      "sales_method                object\n",
      "dtype: object\n"
     ]
    }
   ],
   "source": [
    "# Confirm that the \"invoice_date\" data type has been changed.\n",
    "print(combined_2020_2021_df.dtypes)"
   ]
  },
  {
   "cell_type": "markdown",
   "metadata": {},
   "source": [
    "### 2. Determine which Region Sold the Most Products"
   ]
  },
  {
   "cell_type": "markdown",
   "metadata": {},
   "source": [
    "#### Using `groupby`"
   ]
  },
  {
   "cell_type": "code",
   "execution_count": 133,
   "metadata": {},
   "outputs": [
    {
     "data": {
      "text/html": [
       "<div>\n",
       "<style scoped>\n",
       "    .dataframe tbody tr th:only-of-type {\n",
       "        vertical-align: middle;\n",
       "    }\n",
       "\n",
       "    .dataframe tbody tr th {\n",
       "        vertical-align: top;\n",
       "    }\n",
       "\n",
       "    .dataframe thead th {\n",
       "        text-align: right;\n",
       "    }\n",
       "</style>\n",
       "<table border=\"1\" class=\"dataframe\">\n",
       "  <thead>\n",
       "    <tr style=\"text-align: right;\">\n",
       "      <th></th>\n",
       "      <th></th>\n",
       "      <th></th>\n",
       "      <th>Total_Products_Sold</th>\n",
       "    </tr>\n",
       "    <tr>\n",
       "      <th>region</th>\n",
       "      <th>state</th>\n",
       "      <th>city</th>\n",
       "      <th></th>\n",
       "    </tr>\n",
       "  </thead>\n",
       "  <tbody>\n",
       "    <tr>\n",
       "      <th rowspan=\"5\" valign=\"top\">Midwest</th>\n",
       "      <th>Illinois</th>\n",
       "      <th>Chicago</th>\n",
       "      <td>25407</td>\n",
       "    </tr>\n",
       "    <tr>\n",
       "      <th>Indiana</th>\n",
       "      <th>Indianapolis</th>\n",
       "      <td>26332</td>\n",
       "    </tr>\n",
       "    <tr>\n",
       "      <th>Iowa</th>\n",
       "      <th>Des Moines</th>\n",
       "      <td>23446</td>\n",
       "    </tr>\n",
       "    <tr>\n",
       "      <th>Kansas</th>\n",
       "      <th>Wichita</th>\n",
       "      <td>29463</td>\n",
       "    </tr>\n",
       "    <tr>\n",
       "      <th>Michigan</th>\n",
       "      <th>Detroit</th>\n",
       "      <td>50095</td>\n",
       "    </tr>\n",
       "  </tbody>\n",
       "</table>\n",
       "</div>"
      ],
      "text/plain": [
       "                               Total_Products_Sold\n",
       "region  state    city                             \n",
       "Midwest Illinois Chicago                     25407\n",
       "        Indiana  Indianapolis                26332\n",
       "        Iowa     Des Moines                  23446\n",
       "        Kansas   Wichita                     29463\n",
       "        Michigan Detroit                     50095"
      ]
     },
     "execution_count": 133,
     "metadata": {},
     "output_type": "execute_result"
    }
   ],
   "source": [
    "# Show the number products sold for region, state, and city.\n",
    "# Rename the sum to \"Total_Products_Sold\".\n",
    "\n",
    "region_state_city_sales = combined_2020_2021_df.groupby([\"region\", \"state\", \"city\"]).agg(Total_Products_Sold=(\"units_sold\", \"sum\"))\n",
    "\n",
    "\n",
    "\n",
    "# Show the top 5 results.\n",
    "region_state_city_sales.head()       "
   ]
  },
  {
   "cell_type": "markdown",
   "metadata": {},
   "source": [
    "#### Using `pivot_table`"
   ]
  },
  {
   "cell_type": "code",
   "execution_count": 134,
   "metadata": {},
   "outputs": [
    {
     "data": {
      "text/html": [
       "<div>\n",
       "<style scoped>\n",
       "    .dataframe tbody tr th:only-of-type {\n",
       "        vertical-align: middle;\n",
       "    }\n",
       "\n",
       "    .dataframe tbody tr th {\n",
       "        vertical-align: top;\n",
       "    }\n",
       "\n",
       "    .dataframe thead th {\n",
       "        text-align: right;\n",
       "    }\n",
       "</style>\n",
       "<table border=\"1\" class=\"dataframe\">\n",
       "  <thead>\n",
       "    <tr style=\"text-align: right;\">\n",
       "      <th></th>\n",
       "      <th></th>\n",
       "      <th></th>\n",
       "      <th>units_sold</th>\n",
       "    </tr>\n",
       "    <tr>\n",
       "      <th>region</th>\n",
       "      <th>state</th>\n",
       "      <th>city</th>\n",
       "      <th></th>\n",
       "    </tr>\n",
       "  </thead>\n",
       "  <tbody>\n",
       "    <tr>\n",
       "      <th rowspan=\"10\" valign=\"top\">Midwest</th>\n",
       "      <th>Illinois</th>\n",
       "      <th>Chicago</th>\n",
       "      <td>25407</td>\n",
       "    </tr>\n",
       "    <tr>\n",
       "      <th>Indiana</th>\n",
       "      <th>Indianapolis</th>\n",
       "      <td>26332</td>\n",
       "    </tr>\n",
       "    <tr>\n",
       "      <th>Iowa</th>\n",
       "      <th>Des Moines</th>\n",
       "      <td>23446</td>\n",
       "    </tr>\n",
       "    <tr>\n",
       "      <th>Kansas</th>\n",
       "      <th>Wichita</th>\n",
       "      <td>29463</td>\n",
       "    </tr>\n",
       "    <tr>\n",
       "      <th>Michigan</th>\n",
       "      <th>Detroit</th>\n",
       "      <td>50095</td>\n",
       "    </tr>\n",
       "    <tr>\n",
       "      <th>Minnesota</th>\n",
       "      <th>Minneapolis</th>\n",
       "      <td>20415</td>\n",
       "    </tr>\n",
       "    <tr>\n",
       "      <th>Missouri</th>\n",
       "      <th>St. Louis</th>\n",
       "      <td>36404</td>\n",
       "    </tr>\n",
       "    <tr>\n",
       "      <th>Montana</th>\n",
       "      <th>Billings</th>\n",
       "      <td>42713</td>\n",
       "    </tr>\n",
       "    <tr>\n",
       "      <th>Nebraska</th>\n",
       "      <th>Omaha</th>\n",
       "      <td>19154</td>\n",
       "    </tr>\n",
       "    <tr>\n",
       "      <th>North Dakota</th>\n",
       "      <th>Fargo</th>\n",
       "      <td>22781</td>\n",
       "    </tr>\n",
       "  </tbody>\n",
       "</table>\n",
       "</div>"
      ],
      "text/plain": [
       "                                   units_sold\n",
       "region  state        city                    \n",
       "Midwest Illinois     Chicago            25407\n",
       "        Indiana      Indianapolis       26332\n",
       "        Iowa         Des Moines         23446\n",
       "        Kansas       Wichita            29463\n",
       "        Michigan     Detroit            50095\n",
       "        Minnesota    Minneapolis        20415\n",
       "        Missouri     St. Louis          36404\n",
       "        Montana      Billings           42713\n",
       "        Nebraska     Omaha              19154\n",
       "        North Dakota Fargo              22781"
      ]
     },
     "execution_count": 134,
     "metadata": {},
     "output_type": "execute_result"
    }
   ],
   "source": [
    "# Show the number products sold for region, state, and city.\n",
    "region_state_city_total_sold = pd.pivot_table(combined_2020_2021_df, \n",
    "                                       index=[\"region\", \"state\", \"city\"], \n",
    "                                       values=\"units_sold\",\n",
    "                                       aggfunc=\"sum\")\n",
    "\n",
    "# Rename the \"units_sold\" column to \"Total_Products_Sold\"\n",
    "combined_2020_2021_df = combined_2020_2021_df.rename(columns={\"units_sold\": \"Total_Products_Sold\"})\n",
    "\n",
    "# Show the top 5 results.\n",
    "region_state_city_total_sold.head(10)"
   ]
  },
  {
   "cell_type": "markdown",
   "metadata": {},
   "source": [
    "### 3. Determine which Region had the Most Sales"
   ]
  },
  {
   "cell_type": "markdown",
   "metadata": {},
   "source": [
    "#### Using `groupby`"
   ]
  },
  {
   "cell_type": "code",
   "execution_count": 135,
   "metadata": {},
   "outputs": [
    {
     "data": {
      "text/html": [
       "<div>\n",
       "<style scoped>\n",
       "    .dataframe tbody tr th:only-of-type {\n",
       "        vertical-align: middle;\n",
       "    }\n",
       "\n",
       "    .dataframe tbody tr th {\n",
       "        vertical-align: top;\n",
       "    }\n",
       "\n",
       "    .dataframe thead th {\n",
       "        text-align: right;\n",
       "    }\n",
       "</style>\n",
       "<table border=\"1\" class=\"dataframe\">\n",
       "  <thead>\n",
       "    <tr style=\"text-align: right;\">\n",
       "      <th></th>\n",
       "      <th>region</th>\n",
       "      <th>state</th>\n",
       "      <th>city</th>\n",
       "      <th>Total Sales</th>\n",
       "    </tr>\n",
       "  </thead>\n",
       "  <tbody>\n",
       "    <tr>\n",
       "      <th>0</th>\n",
       "      <td>Midwest</td>\n",
       "      <td>Illinois</td>\n",
       "      <td>Chicago</td>\n",
       "      <td>9797488</td>\n",
       "    </tr>\n",
       "    <tr>\n",
       "      <th>1</th>\n",
       "      <td>Midwest</td>\n",
       "      <td>Indiana</td>\n",
       "      <td>Indianapolis</td>\n",
       "      <td>8836198</td>\n",
       "    </tr>\n",
       "    <tr>\n",
       "      <th>2</th>\n",
       "      <td>Midwest</td>\n",
       "      <td>Iowa</td>\n",
       "      <td>Des Moines</td>\n",
       "      <td>7424011</td>\n",
       "    </tr>\n",
       "    <tr>\n",
       "      <th>3</th>\n",
       "      <td>Midwest</td>\n",
       "      <td>Kansas</td>\n",
       "      <td>Wichita</td>\n",
       "      <td>9972864</td>\n",
       "    </tr>\n",
       "    <tr>\n",
       "      <th>4</th>\n",
       "      <td>Midwest</td>\n",
       "      <td>Michigan</td>\n",
       "      <td>Detroit</td>\n",
       "      <td>18625433</td>\n",
       "    </tr>\n",
       "  </tbody>\n",
       "</table>\n",
       "</div>"
      ],
      "text/plain": [
       "    region     state          city  Total Sales\n",
       "0  Midwest  Illinois       Chicago      9797488\n",
       "1  Midwest   Indiana  Indianapolis      8836198\n",
       "2  Midwest      Iowa    Des Moines      7424011\n",
       "3  Midwest    Kansas       Wichita      9972864\n",
       "4  Midwest  Michigan       Detroit     18625433"
      ]
     },
     "execution_count": 135,
     "metadata": {},
     "output_type": "execute_result"
    }
   ],
   "source": [
    "# Show the total sales for the products sold for each region, state, and city.\n",
    "# Rename the \"total_sales\" column to \"Total Sales\"\n",
    "region_state_city_total_sales = combined_2020_2021_df.groupby([\"region\", \"state\", \"city\"])[\"total_sales\"].sum().reset_index()\n",
    "region_state_city_total_sales = region_state_city_total_sales.rename(columns={\"total_sales\": \"Total Sales\"})\n",
    "\n",
    "# Show the top 5 results.\n",
    "region_state_city_total_sales.head()"
   ]
  },
  {
   "cell_type": "markdown",
   "metadata": {},
   "source": [
    "#### Using `pivot_table`"
   ]
  },
  {
   "cell_type": "code",
   "execution_count": 136,
   "metadata": {},
   "outputs": [
    {
     "data": {
      "text/html": [
       "<div>\n",
       "<style scoped>\n",
       "    .dataframe tbody tr th:only-of-type {\n",
       "        vertical-align: middle;\n",
       "    }\n",
       "\n",
       "    .dataframe tbody tr th {\n",
       "        vertical-align: top;\n",
       "    }\n",
       "\n",
       "    .dataframe thead th {\n",
       "        text-align: right;\n",
       "    }\n",
       "</style>\n",
       "<table border=\"1\" class=\"dataframe\">\n",
       "  <thead>\n",
       "    <tr style=\"text-align: right;\">\n",
       "      <th></th>\n",
       "      <th></th>\n",
       "      <th></th>\n",
       "      <th>Total Sales</th>\n",
       "    </tr>\n",
       "    <tr>\n",
       "      <th>region</th>\n",
       "      <th>state</th>\n",
       "      <th>city</th>\n",
       "      <th></th>\n",
       "    </tr>\n",
       "  </thead>\n",
       "  <tbody>\n",
       "    <tr>\n",
       "      <th rowspan=\"5\" valign=\"top\">Midwest</th>\n",
       "      <th>Illinois</th>\n",
       "      <th>Chicago</th>\n",
       "      <td>9797488</td>\n",
       "    </tr>\n",
       "    <tr>\n",
       "      <th>Indiana</th>\n",
       "      <th>Indianapolis</th>\n",
       "      <td>8836198</td>\n",
       "    </tr>\n",
       "    <tr>\n",
       "      <th>Iowa</th>\n",
       "      <th>Des Moines</th>\n",
       "      <td>7424011</td>\n",
       "    </tr>\n",
       "    <tr>\n",
       "      <th>Kansas</th>\n",
       "      <th>Wichita</th>\n",
       "      <td>9972864</td>\n",
       "    </tr>\n",
       "    <tr>\n",
       "      <th>Michigan</th>\n",
       "      <th>Detroit</th>\n",
       "      <td>18625433</td>\n",
       "    </tr>\n",
       "  </tbody>\n",
       "</table>\n",
       "</div>"
      ],
      "text/plain": [
       "                               Total Sales\n",
       "region  state    city                     \n",
       "Midwest Illinois Chicago           9797488\n",
       "        Indiana  Indianapolis      8836198\n",
       "        Iowa     Des Moines        7424011\n",
       "        Kansas   Wichita           9972864\n",
       "        Michigan Detroit          18625433"
      ]
     },
     "execution_count": 136,
     "metadata": {},
     "output_type": "execute_result"
    }
   ],
   "source": [
    "# Show the total sales for the products sold for each region, state, and city.\n",
    "region_state_city_total_sales_pivot = pd.pivot_table(combined_2020_2021_df,\n",
    "                                               index=[\"region\", \"state\", \"city\"],\n",
    "                                               values=\"total_sales\",\n",
    "                                               aggfunc=\"sum\")\n",
    "\n",
    "\n",
    "# Optional: Rename the \"total_sales\" column to \"Total Sales\"\n",
    "region_state_city_total_sales_pivot = region_state_city_total_sales_pivot.rename(columns={\"total_sales\": \"Total Sales\"})\n",
    "\n",
    "# Show the top 5 results.\n",
    "region_state_city_total_sales_pivot.head()"
   ]
  },
  {
   "cell_type": "markdown",
   "metadata": {
    "jp-MarkdownHeadingCollapsed": true,
    "tags": []
   },
   "source": [
    "### 4. Determine which Retailer had the Most Sales"
   ]
  },
  {
   "cell_type": "markdown",
   "metadata": {},
   "source": [
    "#### Using `groupby`"
   ]
  },
  {
   "cell_type": "code",
   "execution_count": 138,
   "metadata": {},
   "outputs": [
    {
     "data": {
      "text/html": [
       "<div>\n",
       "<style scoped>\n",
       "    .dataframe tbody tr th:only-of-type {\n",
       "        vertical-align: middle;\n",
       "    }\n",
       "\n",
       "    .dataframe tbody tr th {\n",
       "        vertical-align: top;\n",
       "    }\n",
       "\n",
       "    .dataframe thead th {\n",
       "        text-align: right;\n",
       "    }\n",
       "</style>\n",
       "<table border=\"1\" class=\"dataframe\">\n",
       "  <thead>\n",
       "    <tr style=\"text-align: right;\">\n",
       "      <th></th>\n",
       "      <th>retailer</th>\n",
       "      <th>region</th>\n",
       "      <th>state</th>\n",
       "      <th>city</th>\n",
       "      <th>Total Sales</th>\n",
       "    </tr>\n",
       "  </thead>\n",
       "  <tbody>\n",
       "    <tr>\n",
       "      <th>0</th>\n",
       "      <td>Amazon</td>\n",
       "      <td>Midwest</td>\n",
       "      <td>Ohio</td>\n",
       "      <td>Columbus</td>\n",
       "      <td>16835873</td>\n",
       "    </tr>\n",
       "    <tr>\n",
       "      <th>1</th>\n",
       "      <td>Amazon</td>\n",
       "      <td>Northeast</td>\n",
       "      <td>Maine</td>\n",
       "      <td>Portland</td>\n",
       "      <td>8611395</td>\n",
       "    </tr>\n",
       "    <tr>\n",
       "      <th>2</th>\n",
       "      <td>Amazon</td>\n",
       "      <td>Northeast</td>\n",
       "      <td>Massachusetts</td>\n",
       "      <td>Boston</td>\n",
       "      <td>4193590</td>\n",
       "    </tr>\n",
       "    <tr>\n",
       "      <th>3</th>\n",
       "      <td>Amazon</td>\n",
       "      <td>Northeast</td>\n",
       "      <td>New Hampshire</td>\n",
       "      <td>Manchester</td>\n",
       "      <td>10077142</td>\n",
       "    </tr>\n",
       "    <tr>\n",
       "      <th>4</th>\n",
       "      <td>Amazon</td>\n",
       "      <td>Northeast</td>\n",
       "      <td>Vermont</td>\n",
       "      <td>Burlington</td>\n",
       "      <td>13380463</td>\n",
       "    </tr>\n",
       "  </tbody>\n",
       "</table>\n",
       "</div>"
      ],
      "text/plain": [
       "  retailer     region          state        city  Total Sales\n",
       "0   Amazon    Midwest           Ohio    Columbus     16835873\n",
       "1   Amazon  Northeast          Maine    Portland      8611395\n",
       "2   Amazon  Northeast  Massachusetts      Boston      4193590\n",
       "3   Amazon  Northeast  New Hampshire  Manchester     10077142\n",
       "4   Amazon  Northeast        Vermont  Burlington     13380463"
      ]
     },
     "execution_count": 138,
     "metadata": {},
     "output_type": "execute_result"
    }
   ],
   "source": [
    "# Show the total sales for the products sold for each retailer, region, state, and city.\n",
    "# Rename the \"total_sales\" column to \"Total Sales\"\n",
    "retailer_region_state_city_totsales = combined_2020_2021_df.groupby([\"retailer\", \"region\", \"state\", \"city\"])[\"total_sales\"].sum().reset_index()\n",
    "retailer_region_state_city_totsales = retailer_region_state_city_totsales.rename(columns={\"total_sales\": \"Total Sales\"})\n",
    "\n",
    "# Show the top 5 results.\n",
    "retailer_region_state_city_totsales.head()"
   ]
  },
  {
   "cell_type": "markdown",
   "metadata": {},
   "source": [
    "#### Using `pivot_table`"
   ]
  },
  {
   "cell_type": "code",
   "execution_count": null,
   "metadata": {},
   "outputs": [],
   "source": [
    "# Show the total sales for the products sold for each retailer, region, state, and city.\n",
    "\n",
    "\n",
    "# Optional: Rename the \"total_sales\" column to \"Total Sales\"\n",
    "\n",
    "\n",
    "# Show the top 5 results.\n"
   ]
  },
  {
   "cell_type": "markdown",
   "metadata": {},
   "source": [
    "### 5. Determine which Retailer Sold the Most Women's Athletic Footwear"
   ]
  },
  {
   "cell_type": "code",
   "execution_count": null,
   "metadata": {},
   "outputs": [],
   "source": [
    "# Filter the sales data to get the women's athletic footwear sales data.\n"
   ]
  },
  {
   "cell_type": "markdown",
   "metadata": {},
   "source": [
    "#### Using `groupby`"
   ]
  },
  {
   "cell_type": "code",
   "execution_count": null,
   "metadata": {},
   "outputs": [],
   "source": [
    "# Show the total number of women's athletic footwear sold for each retailer, region, state, and city.\n",
    "# Rename the \"units_sold\" column to \"Womens_Footwear_Units_Sold\"\n",
    "\n",
    "# Show the top 5 results.\n"
   ]
  },
  {
   "cell_type": "markdown",
   "metadata": {},
   "source": [
    "#### Using `pivot_table`"
   ]
  },
  {
   "cell_type": "code",
   "execution_count": null,
   "metadata": {},
   "outputs": [],
   "source": [
    "# Show the total number of women's athletic footwear sold for each retailer, region, state, and city.\n",
    "\n",
    "\n",
    "# Rename the \"units_sold\" column to \"Womens_Footwear_Units_Sold\"\n",
    "\n",
    "# Show the top 5 results.\n"
   ]
  },
  {
   "cell_type": "markdown",
   "metadata": {},
   "source": [
    "### 5. Determine the Day with the Most Women's Athletic Footwear Sales"
   ]
  },
  {
   "cell_type": "code",
   "execution_count": null,
   "metadata": {},
   "outputs": [],
   "source": [
    "# Create a pivot table with the 'invoice_date' column is the index, and the \"total_sales\" as the values.\n",
    "\n",
    "\n",
    "# Optional: Rename the \"total_sales\" column to \"Total Sales\"\n",
    "\n",
    "\n",
    "# Show the table.\n"
   ]
  },
  {
   "cell_type": "code",
   "execution_count": null,
   "metadata": {},
   "outputs": [],
   "source": [
    "# Resample the pivot table into daily bins, and get the total sales for each day.\n",
    "\n",
    "\n",
    "# Sort the resampled pivot table in ascending order on \"Total Sales\".\n"
   ]
  },
  {
   "cell_type": "markdown",
   "metadata": {},
   "source": [
    "### 6.  Determine the Week with the Most Women's Athletic Footwear Sales"
   ]
  },
  {
   "cell_type": "code",
   "execution_count": null,
   "metadata": {},
   "outputs": [],
   "source": [
    "# Resample the pivot table into weekly bins, and get the total sales for each week.\n",
    "\n",
    "\n",
    "# Sort the resampled pivot table in ascending order on \"Total Sales\".\n"
   ]
  },
  {
   "cell_type": "code",
   "execution_count": null,
   "metadata": {},
   "outputs": [],
   "source": []
  }
 ],
 "metadata": {
  "kernelspec": {
   "display_name": "Python 3 (ipykernel)",
   "language": "python",
   "name": "python3"
  },
  "language_info": {
   "codemirror_mode": {
    "name": "ipython",
    "version": 3
   },
   "file_extension": ".py",
   "mimetype": "text/x-python",
   "name": "python",
   "nbconvert_exporter": "python",
   "pygments_lexer": "ipython3",
   "version": "3.10.13"
  }
 },
 "nbformat": 4,
 "nbformat_minor": 4
}
